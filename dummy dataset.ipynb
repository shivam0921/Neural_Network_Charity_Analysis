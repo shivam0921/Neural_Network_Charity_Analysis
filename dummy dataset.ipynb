{
 "cells": [
  {
   "cell_type": "code",
   "execution_count": 1,
   "metadata": {},
   "outputs": [],
   "source": [
    "# Import our dependencies\n",
    "import pandas as pd\n",
    "import matplotlib as plt\n",
    "from sklearn.datasets import make_blobs\n",
    "import sklearn as skl\n",
    "import tensorflow as tf"
   ]
  },
  {
   "cell_type": "code",
   "execution_count": 2,
   "metadata": {},
   "outputs": [
    {
     "data": {
      "text/plain": [
       "<AxesSubplot:xlabel='Feature 1', ylabel='Feature 2'>"
      ]
     },
     "execution_count": 2,
     "metadata": {},
     "output_type": "execute_result"
    },
    {
     "data": {
      "image/png": "[encoded data removed]",
      "text/plain": [
       "<Figure size 432x288 with 2 Axes>"
      ]
     },
     "metadata": {
      "needs_background": "light"
     },
     "output_type": "display_data"
    }
   ],
   "source": [
    "# Generate dummy dataset\n",
    "X, y = make_blobs(n_samples=1000, centers=2, n_features=2, random_state=78)\n",
    "\n",
    "# Creating a DataFrame with the dummy data\n",
    "df = pd.DataFrame(X, columns=[\"Feature 1\", \"Feature 2\"])\n",
    "df[\"Target\"] = y\n",
    "\n",
    "# Plotting the dummy data\n",
    "df.plot.scatter(x=\"Feature 1\", y=\"Feature 2\", c=\"Target\", colormap=\"winter\")"
   ]
  },
  {
   "cell_type": "code",
   "execution_count": 3,
   "metadata": {},
   "outputs": [],
   "source": [
    "# Use sklearn to split dataset\n",
    "from sklearn.model_selection import train_test_split\n",
    "X_train, X_test, y_train, y_test = train_test_split(X, y, random_state=78)"
   ]
  },
  {
   "cell_type": "code",
   "execution_count": 4,
   "metadata": {},
   "outputs": [],
   "source": [
    "# Create scaler instance\n",
    "X_scaler = skl.preprocessing.StandardScaler()\n",
    "\n",
    "# Fit the scaler\n",
    "X_scaler.fit(X_train)\n",
    "\n",
    "# Scale the data\n",
    "X_train_scaled = X_scaler.transform(X_train)\n",
    "X_test_scaled = X_scaler.transform(X_test)"
   ]
  },
  {
   "cell_type": "code",
   "execution_count": 5,
   "metadata": {},
   "outputs": [],
   "source": [
    "# Create the Keras Sequential model\n",
    "nn_model = tf.keras.models.Sequential()"
   ]
  },
  {
   "cell_type": "code",
   "execution_count": 6,
   "metadata": {},
   "outputs": [
    {
     "name": "stdout",
     "output_type": "stream",
     "text": [
      "<tensorflow.python.keras.engine.sequential.Sequential object at 0x00000165A75B9FD0>\n"
     ]
    }
   ],
   "source": [
    "print(nn_model)"
   ]
  },
  {
   "cell_type": "code",
   "execution_count": 7,
   "metadata": {},
   "outputs": [],
   "source": [
    "# Add our first Dense layer, including the input layer\n",
    "nn_model.add(tf.keras.layers.Dense(units=1, activation=\"relu\", input_dim=2))"
   ]
  },
  {
   "cell_type": "code",
   "execution_count": 8,
   "metadata": {},
   "outputs": [],
   "source": [
    "# Add the output layer that uses a probability activation function\n",
    "nn_model.add(tf.keras.layers.Dense(units=1, activation=\"sigmoid\"))"
   ]
  },
  {
   "cell_type": "code",
   "execution_count": 9,
   "metadata": {},
   "outputs": [
    {
     "name": "stdout",
     "output_type": "stream",
     "text": [
      "Model: \"sequential\"\n",
      "_________________________________________________________________\n",
      "Layer (type)                 Output Shape              Param #   \n",
      "=================================================================\n",
      "dense (Dense)                (None, 1)                 3         \n",
      "_________________________________________________________________\n",
      "dense_1 (Dense)              (None, 1)                 2         \n",
      "=================================================================\n",
      "Total params: 5\n",
      "Trainable params: 5\n",
      "Non-trainable params: 0\n",
      "_________________________________________________________________\n"
     ]
    }
   ],
   "source": [
    "# Check the structure of the Sequential model\n",
    "nn_model.summary()"
   ]
  },
  {
   "cell_type": "code",
   "execution_count": 10,
   "metadata": {},
   "outputs": [],
   "source": [
    "# Compile the Sequential model together and customize metrics\n",
    "nn_model.compile(loss=\"binary_crossentropy\", optimizer=\"adam\", metrics=[\"accuracy\"])"
   ]
  },
  {
   "cell_type": "code",
   "execution_count": 11,
   "metadata": {},
   "outputs": [
    {
     "name": "stdout",
     "output_type": "stream",
     "text": [
      "Epoch 1/100\n",
      "24/24 [==============================] - 1s 825us/step - loss: 1.6710 - accuracy: 0.0000e+00\n",
      "Epoch 2/100\n",
      "24/24 [==============================] - 0s 829us/step - loss: 1.5230 - accuracy: 0.0000e+00\n",
      "Epoch 3/100\n",
      "24/24 [==============================] - 0s 824us/step - loss: 1.5331 - accuracy: 0.0000e+00\n",
      "Epoch 4/100\n",
      "24/24 [==============================] - 0s 757us/step - loss: 1.4448 - accuracy: 0.0000e+00\n",
      "Epoch 5/100\n",
      "24/24 [==============================] - 0s 736us/step - loss: 1.4181 - accuracy: 0.0000e+00\n",
      "Epoch 6/100\n",
      "24/24 [==============================] - 0s 540us/step - loss: 1.3644 - accuracy: 0.0000e+00\n",
      "Epoch 7/100\n",
      "24/24 [==============================] - 0s 644us/step - loss: 1.3000 - accuracy: 0.0000e+00\n",
      "Epoch 8/100\n",
      "24/24 [==============================] - 0s 623us/step - loss: 1.2694 - accuracy: 0.0000e+00\n",
      "Epoch 9/100\n",
      "24/24 [==============================] - 0s 625us/step - loss: 1.2226 - accuracy: 0.0000e+00\n",
      "Epoch 10/100\n",
      "24/24 [==============================] - 0s 608us/step - loss: 1.1769 - accuracy: 0.0000e+00\n",
      "Epoch 11/100\n",
      "24/24 [==============================] - 0s 620us/step - loss: 1.1362 - accuracy: 7.9936e-04\n",
      "Epoch 12/100\n",
      "24/24 [==============================] - 0s 607us/step - loss: 1.1141 - accuracy: 3.3986e-04\n",
      "Epoch 13/100\n",
      "24/24 [==============================] - 0s 580us/step - loss: 1.0845 - accuracy: 7.1008e-04\n",
      "Epoch 14/100\n",
      "24/24 [==============================] - 0s 606us/step - loss: 1.0526 - accuracy: 0.0015\n",
      "Epoch 15/100\n",
      "24/24 [==============================] - 0s 564us/step - loss: 1.0216 - accuracy: 3.3986e-04\n",
      "Epoch 16/100\n",
      "24/24 [==============================] - 0s 737us/step - loss: 1.0034 - accuracy: 7.1008e-04\n",
      "Epoch 17/100\n",
      "24/24 [==============================] - 0s 564us/step - loss: 0.9705 - accuracy: 0.0030\n",
      "Epoch 18/100\n",
      "24/24 [==============================] - 0s 607us/step - loss: 0.9472 - accuracy: 0.0062\n",
      "Epoch 19/100\n",
      "24/24 [==============================] - 0s 561us/step - loss: 0.9245 - accuracy: 0.0040\n",
      "Epoch 20/100\n",
      "24/24 [==============================] - 0s 565us/step - loss: 0.9012 - accuracy: 0.0074\n",
      "Epoch 21/100\n",
      "24/24 [==============================] - 0s 564us/step - loss: 0.8883 - accuracy: 0.0056\n",
      "Epoch 22/100\n",
      "24/24 [==============================] - 0s 675us/step - loss: 0.8680 - accuracy: 0.0113\n",
      "Epoch 23/100\n",
      "24/24 [==============================] - 0s 605us/step - loss: 0.8536 - accuracy: 0.0166\n",
      "Epoch 24/100\n",
      "24/24 [==============================] - 0s 622us/step - loss: 0.8364 - accuracy: 0.0393\n",
      "Epoch 25/100\n",
      "24/24 [==============================] - 0s 608us/step - loss: 0.8228 - accuracy: 0.0639\n",
      "Epoch 26/100\n",
      "24/24 [==============================] - 0s 606us/step - loss: 0.8134 - accuracy: 0.0775\n",
      "Epoch 27/100\n",
      "24/24 [==============================] - 0s 564us/step - loss: 0.7979 - accuracy: 0.1139\n",
      "Epoch 28/100\n",
      "24/24 [==============================] - 0s 694us/step - loss: 0.7880 - accuracy: 0.1423\n",
      "Epoch 29/100\n",
      "24/24 [==============================] - 0s 591us/step - loss: 0.7697 - accuracy: 0.2137\n",
      "Epoch 30/100\n",
      "24/24 [==============================] - 0s 580us/step - loss: 0.7608 - accuracy: 0.2740\n",
      "Epoch 31/100\n",
      "24/24 [==============================] - 0s 611us/step - loss: 0.7532 - accuracy: 0.3164\n",
      "Epoch 32/100\n",
      "24/24 [==============================] - 0s 564us/step - loss: 0.7429 - accuracy: 0.3879\n",
      "Epoch 33/100\n",
      "24/24 [==============================] - 0s 650us/step - loss: 0.7321 - accuracy: 0.4485\n",
      "Epoch 34/100\n",
      "24/24 [==============================] - 0s 607us/step - loss: 0.7222 - accuracy: 0.4802\n",
      "Epoch 35/100\n",
      "24/24 [==============================] - 0s 607us/step - loss: 0.7164 - accuracy: 0.4973\n",
      "Epoch 36/100\n",
      "24/24 [==============================] - 0s 608us/step - loss: 0.7079 - accuracy: 0.5187\n",
      "Epoch 37/100\n",
      "24/24 [==============================] - 0s 633us/step - loss: 0.7100 - accuracy: 0.4868\n",
      "Epoch 38/100\n",
      "24/24 [==============================] - 0s 578us/step - loss: 0.7059 - accuracy: 0.4967\n",
      "Epoch 39/100\n",
      "24/24 [==============================] - 0s 736us/step - loss: 0.7031 - accuracy: 0.4976\n",
      "Epoch 40/100\n",
      "24/24 [==============================] - 0s 641us/step - loss: 0.7005 - accuracy: 0.5034\n",
      "Epoch 41/100\n",
      "24/24 [==============================] - 0s 565us/step - loss: 0.6999 - accuracy: 0.5005\n",
      "Epoch 42/100\n",
      "24/24 [==============================] - 0s 640us/step - loss: 0.7006 - accuracy: 0.4923\n",
      "Epoch 43/100\n",
      "24/24 [==============================] - 0s 564us/step - loss: 0.6954 - accuracy: 0.5187\n",
      "Epoch 44/100\n",
      "24/24 [==============================] - 0s 651us/step - loss: 0.7045 - accuracy: 0.4636\n",
      "Epoch 45/100\n",
      "24/24 [==============================] - 0s 649us/step - loss: 0.6946 - accuracy: 0.5184\n",
      "Epoch 46/100\n",
      "24/24 [==============================] - 0s 607us/step - loss: 0.6980 - accuracy: 0.4959\n",
      "Epoch 47/100\n",
      "24/24 [==============================] - 0s 564us/step - loss: 0.6948 - accuracy: 0.5144\n",
      "Epoch 48/100\n",
      "24/24 [==============================] - 0s 572us/step - loss: 0.6976 - accuracy: 0.4934\n",
      "Epoch 49/100\n",
      "24/24 [==============================] - 0s 603us/step - loss: 0.6928 - accuracy: 0.5252\n",
      "Epoch 50/100\n",
      "24/24 [==============================] - 0s 589us/step - loss: 0.6951 - accuracy: 0.5084\n",
      "Epoch 51/100\n",
      "24/24 [==============================] - 0s 564us/step - loss: 0.6942 - accuracy: 0.5108\n",
      "Epoch 52/100\n",
      "24/24 [==============================] - 0s 622us/step - loss: 0.6935 - accuracy: 0.5186\n",
      "Epoch 53/100\n",
      "24/24 [==============================] - 0s 564us/step - loss: 0.6945 - accuracy: 0.5061\n",
      "Epoch 54/100\n",
      "24/24 [==============================] - 0s 629us/step - loss: 0.6940 - accuracy: 0.5100\n",
      "Epoch 55/100\n",
      "24/24 [==============================] - 0s 608us/step - loss: 0.6936 - accuracy: 0.5140\n",
      "Epoch 56/100\n",
      "24/24 [==============================] - 0s 650us/step - loss: 0.6938 - accuracy: 0.5117\n",
      "Epoch 57/100\n",
      "24/24 [==============================] - 0s 593us/step - loss: 0.6932 - accuracy: 0.5140\n",
      "Epoch 58/100\n",
      "24/24 [==============================] - 0s 658us/step - loss: 0.6973 - accuracy: 0.4717\n",
      "Epoch 59/100\n",
      "24/24 [==============================] - 0s 583us/step - loss: 0.6932 - accuracy: 0.5139\n",
      "Epoch 60/100\n",
      "24/24 [==============================] - 0s 574us/step - loss: 0.6955 - accuracy: 0.4885\n",
      "Epoch 61/100\n",
      "24/24 [==============================] - 0s 564us/step - loss: 0.6935 - accuracy: 0.5072\n",
      "Epoch 62/100\n",
      "24/24 [==============================] - 0s 553us/step - loss: 0.6925 - accuracy: 0.5195\n",
      "Epoch 63/100\n",
      "24/24 [==============================] - 0s 607us/step - loss: 0.6938 - accuracy: 0.5045\n",
      "Epoch 64/100\n",
      "24/24 [==============================] - 0s 824us/step - loss: 0.6936 - accuracy: 0.5060\n",
      "Epoch 65/100\n",
      "24/24 [==============================] - 0s 575us/step - loss: 0.6952 - accuracy: 0.4831\n",
      "Epoch 66/100\n",
      "24/24 [==============================] - 0s 607us/step - loss: 0.6948 - accuracy: 0.4892\n",
      "Epoch 67/100\n",
      "24/24 [==============================] - 0s 567us/step - loss: 0.6926 - accuracy: 0.5182\n",
      "Epoch 68/100\n",
      "24/24 [==============================] - 0s 578us/step - loss: 0.6942 - accuracy: 0.4942\n",
      "Epoch 69/100\n",
      "24/24 [==============================] - 0s 564us/step - loss: 0.6939 - accuracy: 0.4969\n",
      "Epoch 70/100\n",
      "24/24 [==============================] - 0s 554us/step - loss: 0.6930 - accuracy: 0.5128\n",
      "Epoch 71/100\n",
      "24/24 [==============================] - 0s 607us/step - loss: 0.6943 - accuracy: 0.4913\n",
      "Epoch 72/100\n",
      "24/24 [==============================] - 0s 564us/step - loss: 0.6938 - accuracy: 0.4963\n",
      "Epoch 73/100\n",
      "24/24 [==============================] - 0s 607us/step - loss: 0.6934 - accuracy: 0.5029\n",
      "Epoch 74/100\n",
      "24/24 [==============================] - 0s 607us/step - loss: 0.6934 - accuracy: 0.5037\n",
      "Epoch 75/100\n",
      "24/24 [==============================] - 0s 608us/step - loss: 0.6937 - accuracy: 0.4990\n",
      "Epoch 76/100\n",
      "24/24 [==============================] - 0s 650us/step - loss: 0.6946 - accuracy: 0.4798\n",
      "Epoch 77/100\n",
      "24/24 [==============================] - 0s 607us/step - loss: 0.6941 - accuracy: 0.4885\n",
      "Epoch 78/100\n",
      "24/24 [==============================] - 0s 650us/step - loss: 0.6924 - accuracy: 0.5213\n",
      "Epoch 79/100\n",
      "24/24 [==============================] - 0s 607us/step - loss: 0.6927 - accuracy: 0.5152\n",
      "Epoch 80/100\n"
     ]
    },
    {
     "name": "stdout",
     "output_type": "stream",
     "text": [
      "24/24 [==============================] - 0s 650us/step - loss: 0.6933 - accuracy: 0.5041\n",
      "Epoch 81/100\n",
      "24/24 [==============================] - 0s 522us/step - loss: 0.6948 - accuracy: 0.4712\n",
      "Epoch 82/100\n",
      "24/24 [==============================] - 0s 606us/step - loss: 0.6934 - accuracy: 0.4993\n",
      "Epoch 83/100\n",
      "24/24 [==============================] - 0s 559us/step - loss: 0.6934 - accuracy: 0.4993\n",
      "Epoch 84/100\n",
      "24/24 [==============================] - 0s 600us/step - loss: 0.6934 - accuracy: 0.4997\n",
      "Epoch 85/100\n",
      "24/24 [==============================] - 0s 609us/step - loss: 0.6936 - accuracy: 0.4967\n",
      "Epoch 86/100\n",
      "24/24 [==============================] - 0s 619us/step - loss: 0.6936 - accuracy: 0.4931\n",
      "Epoch 87/100\n",
      "24/24 [==============================] - 0s 566us/step - loss: 0.6928 - accuracy: 0.5141\n",
      "Epoch 88/100\n",
      "24/24 [==============================] - 0s 580us/step - loss: 0.6925 - accuracy: 0.5226\n",
      "Epoch 89/100\n",
      "24/24 [==============================] - 0s 607us/step - loss: 0.6923 - accuracy: 0.5279\n",
      "Epoch 90/100\n",
      "24/24 [==============================] - 0s 604us/step - loss: 0.6926 - accuracy: 0.5183\n",
      "Epoch 91/100\n",
      "24/24 [==============================] - 0s 564us/step - loss: 0.6935 - accuracy: 0.4947\n",
      "Epoch 92/100\n",
      "24/24 [==============================] - 0s 575us/step - loss: 0.6923 - accuracy: 0.5268\n",
      "Epoch 93/100\n",
      "24/24 [==============================] - 0s 582us/step - loss: 0.6933 - accuracy: 0.5009\n",
      "Epoch 94/100\n",
      "24/24 [==============================] - 0s 605us/step - loss: 0.6930 - accuracy: 0.5100\n",
      "Epoch 95/100\n",
      "24/24 [==============================] - 0s 565us/step - loss: 0.6928 - accuracy: 0.5132\n",
      "Epoch 96/100\n",
      "24/24 [==============================] - 0s 631us/step - loss: 0.6923 - accuracy: 0.5266\n",
      "Epoch 97/100\n",
      "24/24 [==============================] - 0s 613us/step - loss: 0.6932 - accuracy: 0.5027\n",
      "Epoch 98/100\n",
      "24/24 [==============================] - 0s 606us/step - loss: 0.6936 - accuracy: 0.4901\n",
      "Epoch 99/100\n",
      "24/24 [==============================] - 0s 546us/step - loss: 0.6932 - accuracy: 0.5033\n",
      "Epoch 100/100\n",
      "24/24 [==============================] - 0s 562us/step - loss: 0.6930 - accuracy: 0.5085\n"
     ]
    }
   ],
   "source": [
    "# Fit the model to the training data\n",
    "fit_model = nn_model.fit(X_train_scaled, y_train, epochs=100)"
   ]
  },
  {
   "cell_type": "code",
   "execution_count": 12,
   "metadata": {},
   "outputs": [
    {
     "data": {
      "text/plain": [
       "<AxesSubplot:>"
      ]
     },
     "execution_count": 12,
     "metadata": {},
     "output_type": "execute_result"
    },
    {
     "data": {
      "image/png": "[encoded data removed]",
      "text/plain": [
       "<Figure size 432x288 with 1 Axes>"
      ]
     },
     "metadata": {
      "needs_background": "light"
     },
     "output_type": "display_data"
    }
   ],
   "source": [
    "# Create a DataFrame containing training history\n",
    "history_df = pd.DataFrame(fit_model.history, index=range(1,len(fit_model.history[\"loss\"])+1))\n",
    "\n",
    "# Plot the loss\n",
    "history_df.plot(y=\"loss\")"
   ]
  },
  {
   "cell_type": "code",
   "execution_count": 13,
   "metadata": {},
   "outputs": [
    {
     "data": {
      "text/plain": [
       "<AxesSubplot:>"
      ]
     },
     "execution_count": 13,
     "metadata": {},
     "output_type": "execute_result"
    },
    {
     "data": {
      "image/png": "[encoded data removed]",
      "text/plain": [
       "<Figure size 432x288 with 1 Axes>"
      ]
     },
     "metadata": {
      "needs_background": "light"
     },
     "output_type": "display_data"
    }
   ],
   "source": [
    "# Plot the accuracy\n",
    "history_df.plot(y=\"accuracy\")"
   ]
  },
  {
   "cell_type": "code",
   "execution_count": 14,
   "metadata": {},
   "outputs": [
    {
     "name": "stdout",
     "output_type": "stream",
     "text": [
      "8/8 - 0s - loss: 0.6941 - accuracy: 0.4720\n",
      "Loss: 0.6941230297088623, Accuracy: 0.47200000286102295\n"
     ]
    }
   ],
   "source": [
    "# Evaluate the model using the test data\n",
    "model_loss, model_accuracy = nn_model.evaluate(X_test_scaled,y_test,verbose=2)\n",
    "print(f\"Loss: {model_loss}, Accuracy: {model_accuracy}\")"
   ]
  },
  {
   "cell_type": "code",
   "execution_count": 15,
   "metadata": {},
   "outputs": [
    {
     "data": {
      "text/plain": [
       "array([[0],\n",
       "       [0],\n",
       "       [0],\n",
       "       [0],\n",
       "       [0],\n",
       "       [0],\n",
       "       [0],\n",
       "       [0],\n",
       "       [0],\n",
       "       [0]])"
      ]
     },
     "execution_count": 15,
     "metadata": {},
     "output_type": "execute_result"
    }
   ],
   "source": [
    "# Predict the classification of a new set of blob data\n",
    "new_X, new_Y = make_blobs(n_samples=10, centers=2, n_features=2, random_state=78)\n",
    "new_X_scaled = X_scaler.transform(new_X)\n",
    "(nn_model.predict(new_X_scaled) > 0.5).astype(\"int32\")"
   ]
  },
  {
   "cell_type": "code",
   "execution_count": 16,
   "metadata": {},
   "outputs": [
    {
     "data": {
      "text/plain": [
       "array([[0.4921781],\n",
       "       [0.4921781],\n",
       "       [0.4921781],\n",
       "       [0.4921781],\n",
       "       [0.4921781],\n",
       "       [0.4921781],\n",
       "       [0.4921781],\n",
       "       [0.4921781],\n",
       "       [0.4921781],\n",
       "       [0.4921781]], dtype=float32)"
      ]
     },
     "execution_count": 16,
     "metadata": {},
     "output_type": "execute_result"
    }
   ],
   "source": [
    "# Predict the classification of a new set of blob data\n",
    "new_X, new_Y = make_blobs(n_samples=10, centers=2, n_features=2, random_state=78)\n",
    "new_X_scaled = X_scaler.transform(new_X)\n",
    "nn_model.predict(new_X_scaled)"
   ]
  },
  {
   "cell_type": "code",
   "execution_count": 17,
   "metadata": {},
   "outputs": [
    {
     "data": {
      "text/plain": [
       "<AxesSubplot:xlabel='Feature 1', ylabel='Feature 2'>"
      ]
     },
     "execution_count": 17,
     "metadata": {},
     "output_type": "execute_result"
    },
    {
     "data": {
      "image/png": "[encoded data removed]",
      "text/plain": [
       "<Figure size 432x288 with 2 Axes>"
      ]
     },
     "metadata": {
      "needs_background": "light"
     },
     "output_type": "display_data"
    }
   ],
   "source": [
    "from sklearn.datasets import make_moons\n",
    "\n",
    "# Creating dummy nonlinear data\n",
    "X_moons, y_moons = make_moons(n_samples=1000, noise=0.08, random_state=78)\n",
    "\n",
    "# Transforming y_moons to a vertical vector\n",
    "y_moons = y_moons.reshape(-1, 1)\n",
    "\n",
    "# Creating a DataFrame to plot the nonlinear dummy data\n",
    "df_moons = pd.DataFrame(X_moons, columns=[\"Feature 1\", \"Feature 2\"])\n",
    "df_moons[\"Target\"] = y_moons\n",
    "\n",
    "# Plot the nonlinear dummy data\n",
    "df_moons.plot.scatter(x=\"Feature 1\",y=\"Feature 2\", c=\"Target\",colormap=\"winter\")"
   ]
  },
  {
   "cell_type": "code",
   "execution_count": 18,
   "metadata": {},
   "outputs": [],
   "source": [
    "# Create training and testing sets\n",
    "X_moon_train, X_moon_test, y_moon_train, y_moon_test = train_test_split(\n",
    "    X_moons, y_moons, random_state=78\n",
    ")\n",
    "\n",
    "# Create the scaler instance\n",
    "X_moon_scaler = skl.preprocessing.StandardScaler()\n",
    "\n",
    "# Fit the scaler\n",
    "X_moon_scaler.fit(X_moon_train)\n",
    "\n",
    "# Scale the data\n",
    "X_moon_train_scaled = X_moon_scaler.transform(X_moon_train)\n",
    "X_moon_test_scaled = X_moon_scaler.transform(X_moon_test)"
   ]
  },
  {
   "cell_type": "code",
   "execution_count": 19,
   "metadata": {},
   "outputs": [
    {
     "name": "stdout",
     "output_type": "stream",
     "text": [
      "Epoch 1/100\n",
      "24/24 [==============================] - 0s 955us/step - loss: 0.7045 - accuracy: 0.3853\n",
      "Epoch 2/100\n",
      "24/24 [==============================] - 0s 999us/step - loss: 0.7010 - accuracy: 0.4040\n",
      "Epoch 3/100\n",
      "24/24 [==============================] - 0s 1ms/step - loss: 0.6977 - accuracy: 0.4333\n",
      "Epoch 4/100\n",
      "24/24 [==============================] - 0s 924us/step - loss: 0.6951 - accuracy: 0.4733\n",
      "Epoch 5/100\n",
      "24/24 [==============================] - 0s 940us/step - loss: 0.6935 - accuracy: 0.5067\n",
      "Epoch 6/100\n",
      "24/24 [==============================] - 0s 912us/step - loss: 0.6927 - accuracy: 0.5200\n",
      "Epoch 7/100\n",
      "24/24 [==============================] - 0s 868us/step - loss: 0.6923 - accuracy: 0.5280\n",
      "Epoch 8/100\n",
      "24/24 [==============================] - 0s 823us/step - loss: 0.6920 - accuracy: 0.5280\n",
      "Epoch 9/100\n",
      "24/24 [==============================] - 0s 840us/step - loss: 0.6919 - accuracy: 0.5307\n",
      "Epoch 10/100\n",
      "24/24 [==============================] - 0s 884us/step - loss: 0.6917 - accuracy: 0.5307\n",
      "Epoch 11/100\n",
      "24/24 [==============================] - 0s 897us/step - loss: 0.6917 - accuracy: 0.5307\n",
      "Epoch 12/100\n",
      "24/24 [==============================] - 0s 921us/step - loss: 0.6916 - accuracy: 0.5307\n",
      "Epoch 13/100\n",
      "24/24 [==============================] - 0s 882us/step - loss: 0.6916 - accuracy: 0.5307\n",
      "Epoch 14/100\n",
      "24/24 [==============================] - 0s 999us/step - loss: 0.6915 - accuracy: 0.5307\n",
      "Epoch 15/100\n",
      "24/24 [==============================] - 0s 865us/step - loss: 0.6915 - accuracy: 0.5307\n",
      "Epoch 16/100\n",
      "24/24 [==============================] - 0s 952us/step - loss: 0.6915 - accuracy: 0.5307\n",
      "Epoch 17/100\n",
      "24/24 [==============================] - 0s 908us/step - loss: 0.6914 - accuracy: 0.5307\n",
      "Epoch 18/100\n",
      "24/24 [==============================] - 0s 863us/step - loss: 0.6914 - accuracy: 0.5307\n",
      "Epoch 19/100\n",
      "24/24 [==============================] - 0s 953us/step - loss: 0.6914 - accuracy: 0.5307\n",
      "Epoch 20/100\n",
      "24/24 [==============================] - 0s 977us/step - loss: 0.6914 - accuracy: 0.5307\n",
      "Epoch 21/100\n",
      "24/24 [==============================] - 0s 821us/step - loss: 0.6914 - accuracy: 0.5307\n",
      "Epoch 22/100\n",
      "24/24 [==============================] - 0s 857us/step - loss: 0.6914 - accuracy: 0.5307\n",
      "Epoch 23/100\n",
      "24/24 [==============================] - 0s 824us/step - loss: 0.6914 - accuracy: 0.5307\n",
      "Epoch 24/100\n",
      "24/24 [==============================] - 0s 874us/step - loss: 0.6914 - accuracy: 0.5307\n",
      "Epoch 25/100\n",
      "24/24 [==============================] - 0s 832us/step - loss: 0.6914 - accuracy: 0.5307\n",
      "Epoch 26/100\n",
      "24/24 [==============================] - 0s 886us/step - loss: 0.6914 - accuracy: 0.5307\n",
      "Epoch 27/100\n",
      "24/24 [==============================] - 0s 839us/step - loss: 0.6914 - accuracy: 0.5307\n",
      "Epoch 28/100\n",
      "24/24 [==============================] - 0s 912us/step - loss: 0.6913 - accuracy: 0.5307\n",
      "Epoch 29/100\n",
      "24/24 [==============================] - 0s 910us/step - loss: 0.6913 - accuracy: 0.5307\n",
      "Epoch 30/100\n",
      "24/24 [==============================] - 0s 810us/step - loss: 0.6913 - accuracy: 0.5307\n",
      "Epoch 31/100\n",
      "24/24 [==============================] - 0s 909us/step - loss: 0.6913 - accuracy: 0.5307\n",
      "Epoch 32/100\n",
      "24/24 [==============================] - 0s 825us/step - loss: 0.6913 - accuracy: 0.5307\n",
      "Epoch 33/100\n",
      "24/24 [==============================] - 0s 898us/step - loss: 0.6913 - accuracy: 0.5307\n",
      "Epoch 34/100\n",
      "24/24 [==============================] - 0s 868us/step - loss: 0.6913 - accuracy: 0.5307\n",
      "Epoch 35/100\n",
      "24/24 [==============================] - 0s 892us/step - loss: 0.6913 - accuracy: 0.5307\n",
      "Epoch 36/100\n",
      "24/24 [==============================] - 0s 992us/step - loss: 0.6913 - accuracy: 0.5307\n",
      "Epoch 37/100\n",
      "24/24 [==============================] - 0s 968us/step - loss: 0.6914 - accuracy: 0.5307\n",
      "Epoch 38/100\n",
      "24/24 [==============================] - 0s 862us/step - loss: 0.6913 - accuracy: 0.5307\n",
      "Epoch 39/100\n",
      "24/24 [==============================] - 0s 910us/step - loss: 0.6913 - accuracy: 0.5307\n",
      "Epoch 40/100\n",
      "24/24 [==============================] - 0s 925us/step - loss: 0.6913 - accuracy: 0.5307\n",
      "Epoch 41/100\n",
      "24/24 [==============================] - 0s 892us/step - loss: 0.6913 - accuracy: 0.5307\n",
      "Epoch 42/100\n",
      "24/24 [==============================] - 0s 939us/step - loss: 0.6913 - accuracy: 0.5307\n",
      "Epoch 43/100\n",
      "24/24 [==============================] - 0s 963us/step - loss: 0.6913 - accuracy: 0.5307\n",
      "Epoch 44/100\n",
      "24/24 [==============================] - 0s 997us/step - loss: 0.6913 - accuracy: 0.5307\n",
      "Epoch 45/100\n",
      "24/24 [==============================] - 0s 954us/step - loss: 0.6913 - accuracy: 0.5307\n",
      "Epoch 46/100\n",
      "24/24 [==============================] - 0s 993us/step - loss: 0.6913 - accuracy: 0.5307\n",
      "Epoch 47/100\n",
      "24/24 [==============================] - 0s 791us/step - loss: 0.6913 - accuracy: 0.5307\n",
      "Epoch 48/100\n",
      "24/24 [==============================] - 0s 919us/step - loss: 0.6913 - accuracy: 0.5307\n",
      "Epoch 49/100\n",
      "24/24 [==============================] - 0s 880us/step - loss: 0.6913 - accuracy: 0.5307\n",
      "Epoch 50/100\n",
      "24/24 [==============================] - 0s 887us/step - loss: 0.6913 - accuracy: 0.5307\n",
      "Epoch 51/100\n",
      "24/24 [==============================] - 0s 869us/step - loss: 0.6913 - accuracy: 0.5307\n",
      "Epoch 52/100\n",
      "24/24 [==============================] - 0s 911us/step - loss: 0.6913 - accuracy: 0.5307\n",
      "Epoch 53/100\n",
      "24/24 [==============================] - 0s 910us/step - loss: 0.6913 - accuracy: 0.5307\n",
      "Epoch 54/100\n",
      "24/24 [==============================] - 0s 900us/step - loss: 0.6913 - accuracy: 0.5307\n",
      "Epoch 55/100\n",
      "24/24 [==============================] - 0s 911us/step - loss: 0.6913 - accuracy: 0.5307\n",
      "Epoch 56/100\n",
      "24/24 [==============================] - 0s 854us/step - loss: 0.6913 - accuracy: 0.5307\n",
      "Epoch 57/100\n",
      "24/24 [==============================] - 0s 849us/step - loss: 0.6913 - accuracy: 0.5307\n",
      "Epoch 58/100\n",
      "24/24 [==============================] - 0s 897us/step - loss: 0.6913 - accuracy: 0.5307\n",
      "Epoch 59/100\n",
      "24/24 [==============================] - 0s 789us/step - loss: 0.6913 - accuracy: 0.5307\n",
      "Epoch 60/100\n",
      "24/24 [==============================] - 0s 840us/step - loss: 0.6913 - accuracy: 0.5307\n",
      "Epoch 61/100\n",
      "24/24 [==============================] - 0s 867us/step - loss: 0.6913 - accuracy: 0.5307\n",
      "Epoch 62/100\n",
      "24/24 [==============================] - 0s 880us/step - loss: 0.6913 - accuracy: 0.5307\n",
      "Epoch 63/100\n",
      "24/24 [==============================] - 0s 817us/step - loss: 0.6913 - accuracy: 0.5307\n",
      "Epoch 64/100\n",
      "24/24 [==============================] - 0s 838us/step - loss: 0.6913 - accuracy: 0.5307\n",
      "Epoch 65/100\n",
      "24/24 [==============================] - 0s 806us/step - loss: 0.6913 - accuracy: 0.5307\n",
      "Epoch 66/100\n",
      "24/24 [==============================] - 0s 861us/step - loss: 0.6913 - accuracy: 0.5307\n",
      "Epoch 67/100\n",
      "24/24 [==============================] - 0s 790us/step - loss: 0.6913 - accuracy: 0.5307\n",
      "Epoch 68/100\n",
      "24/24 [==============================] - 0s 866us/step - loss: 0.6913 - accuracy: 0.5307\n",
      "Epoch 69/100\n",
      "24/24 [==============================] - 0s 823us/step - loss: 0.6913 - accuracy: 0.5307\n",
      "Epoch 70/100\n",
      "24/24 [==============================] - 0s 855us/step - loss: 0.6913 - accuracy: 0.5307\n",
      "Epoch 71/100\n",
      "24/24 [==============================] - 0s 904us/step - loss: 0.6913 - accuracy: 0.5307\n",
      "Epoch 72/100\n",
      "24/24 [==============================] - 0s 865us/step - loss: 0.6913 - accuracy: 0.5307\n",
      "Epoch 73/100\n",
      "24/24 [==============================] - 0s 809us/step - loss: 0.6913 - accuracy: 0.5307\n",
      "Epoch 74/100\n",
      "24/24 [==============================] - 0s 860us/step - loss: 0.6913 - accuracy: 0.5307\n",
      "Epoch 75/100\n",
      "24/24 [==============================] - 0s 867us/step - loss: 0.6913 - accuracy: 0.5307\n",
      "Epoch 76/100\n",
      "24/24 [==============================] - 0s 849us/step - loss: 0.6913 - accuracy: 0.5307\n",
      "Epoch 77/100\n",
      "24/24 [==============================] - 0s 832us/step - loss: 0.6913 - accuracy: 0.5307\n",
      "Epoch 78/100\n",
      "24/24 [==============================] - 0s 846us/step - loss: 0.6913 - accuracy: 0.5307\n",
      "Epoch 79/100\n",
      "24/24 [==============================] - 0s 868us/step - loss: 0.6913 - accuracy: 0.5307\n",
      "Epoch 80/100\n",
      "24/24 [==============================] - 0s 839us/step - loss: 0.6913 - accuracy: 0.5307\n",
      "Epoch 81/100\n"
     ]
    },
    {
     "name": "stdout",
     "output_type": "stream",
     "text": [
      "24/24 [==============================] - 0s 867us/step - loss: 0.6913 - accuracy: 0.5307\n",
      "Epoch 82/100\n",
      "24/24 [==============================] - 0s 822us/step - loss: 0.6913 - accuracy: 0.5307\n",
      "Epoch 83/100\n",
      "24/24 [==============================] - 0s 888us/step - loss: 0.6913 - accuracy: 0.5307\n",
      "Epoch 84/100\n",
      "24/24 [==============================] - 0s 1ms/step - loss: 0.6913 - accuracy: 0.5307\n",
      "Epoch 85/100\n",
      "24/24 [==============================] - 0s 954us/step - loss: 0.6913 - accuracy: 0.5307\n",
      "Epoch 86/100\n",
      "24/24 [==============================] - 0s 1ms/step - loss: 0.6913 - accuracy: 0.5307\n",
      "Epoch 87/100\n",
      "24/24 [==============================] - 0s 1ms/step - loss: 0.6913 - accuracy: 0.5307\n",
      "Epoch 88/100\n",
      "24/24 [==============================] - 0s 1ms/step - loss: 0.6913 - accuracy: 0.5307\n",
      "Epoch 89/100\n",
      "24/24 [==============================] - 0s 1ms/step - loss: 0.6913 - accuracy: 0.5307\n",
      "Epoch 90/100\n",
      "24/24 [==============================] - 0s 1ms/step - loss: 0.6913 - accuracy: 0.5307\n",
      "Epoch 91/100\n",
      "24/24 [==============================] - 0s 955us/step - loss: 0.6913 - accuracy: 0.5307\n",
      "Epoch 92/100\n",
      "24/24 [==============================] - 0s 823us/step - loss: 0.6913 - accuracy: 0.5307\n",
      "Epoch 93/100\n",
      "24/24 [==============================] - 0s 782us/step - loss: 0.6913 - accuracy: 0.5307\n",
      "Epoch 94/100\n",
      "24/24 [==============================] - 0s 824us/step - loss: 0.6913 - accuracy: 0.5307\n",
      "Epoch 95/100\n",
      "24/24 [==============================] - 0s 858us/step - loss: 0.6913 - accuracy: 0.5307\n",
      "Epoch 96/100\n",
      "24/24 [==============================] - 0s 867us/step - loss: 0.6913 - accuracy: 0.5307\n",
      "Epoch 97/100\n",
      "24/24 [==============================] - 0s 857us/step - loss: 0.6913 - accuracy: 0.5307\n",
      "Epoch 98/100\n",
      "24/24 [==============================] - 0s 912us/step - loss: 0.6913 - accuracy: 0.5307\n",
      "Epoch 99/100\n",
      "24/24 [==============================] - 0s 857us/step - loss: 0.6913 - accuracy: 0.5307\n",
      "Epoch 100/100\n",
      "24/24 [==============================] - 0s 905us/step - loss: 0.6913 - accuracy: 0.5307\n"
     ]
    }
   ],
   "source": [
    "# Training the model with the nonlinear data\n",
    "model_moon = nn_model.fit(X_moon_train_scaled, y_moon_train, epochs=100, shuffle=True)"
   ]
  },
  {
   "cell_type": "code",
   "execution_count": 20,
   "metadata": {},
   "outputs": [
    {
     "data": {
      "text/plain": [
       "<AxesSubplot:>"
      ]
     },
     "execution_count": 20,
     "metadata": {},
     "output_type": "execute_result"
    },
    {
     "data": {
      "image/png": "[encoded data removed]",
      "text/plain": [
       "<Figure size 432x288 with 1 Axes>"
      ]
     },
     "metadata": {
      "needs_background": "light"
     },
     "output_type": "display_data"
    }
   ],
   "source": [
    "# Create a DataFrame containing training history\n",
    "history_df = pd.DataFrame(model_moon.history, index=range(1,len(model_moon.history[\"loss\"])+1))\n",
    "\n",
    "# Plot the loss\n",
    "history_df.plot(y=\"loss\")"
   ]
  },
  {
   "cell_type": "code",
   "execution_count": 21,
   "metadata": {},
   "outputs": [
    {
     "data": {
      "text/plain": [
       "<AxesSubplot:>"
      ]
     },
     "execution_count": 21,
     "metadata": {},
     "output_type": "execute_result"
    },
    {
     "data": {
      "image/png": "[encoded data removed]",
      "text/plain": [
       "<Figure size 432x288 with 1 Axes>"
      ]
     },
     "metadata": {
      "needs_background": "light"
     },
     "output_type": "display_data"
    }
   ],
   "source": [
    "# Plot the loss\n",
    "history_df.plot(y=\"accuracy\")"
   ]
  },
  {
   "cell_type": "code",
   "execution_count": 22,
   "metadata": {},
   "outputs": [],
   "source": [
    "# Generate our new Sequential model\n",
    "new_model = tf.keras.models.Sequential()"
   ]
  },
  {
   "cell_type": "code",
   "execution_count": 23,
   "metadata": {},
   "outputs": [],
   "source": [
    "# Add the input and hidden layer\n",
    "number_inputs = 2\n",
    "number_hidden_nodes = 6\n",
    "\n",
    "new_model.add(tf.keras.layers.Dense(units=number_hidden_nodes, activation=\"relu\", input_dim=number_inputs))\n",
    "\n",
    "# Add the output layer that uses a probability activation function\n",
    "new_model.add(tf.keras.layers.Dense(units=1, activation=\"sigmoid\"))"
   ]
  },
  {
   "cell_type": "code",
   "execution_count": 24,
   "metadata": {},
   "outputs": [
    {
     "name": "stdout",
     "output_type": "stream",
     "text": [
      "Epoch 1/100\n",
      "24/24 [==============================] - 0s 781us/step - loss: 1.0025 - accuracy: 0.2733\n",
      "Epoch 2/100\n",
      "24/24 [==============================] - 0s 569us/step - loss: 0.9501 - accuracy: 0.3235\n",
      "Epoch 3/100\n",
      "24/24 [==============================] - 0s 607us/step - loss: 0.8388 - accuracy: 0.4574\n",
      "Epoch 4/100\n",
      "24/24 [==============================] - 0s 555us/step - loss: 0.7964 - accuracy: 0.5153\n",
      "Epoch 5/100\n",
      "24/24 [==============================] - 0s 547us/step - loss: 0.7244 - accuracy: 0.5968\n",
      "Epoch 6/100\n",
      "24/24 [==============================] - 0s 575us/step - loss: 0.6735 - accuracy: 0.6635\n",
      "Epoch 7/100\n",
      "24/24 [==============================] - 0s 565us/step - loss: 0.6240 - accuracy: 0.6893\n",
      "Epoch 8/100\n",
      "24/24 [==============================] - 0s 636us/step - loss: 0.5779 - accuracy: 0.7280\n",
      "Epoch 9/100\n",
      "24/24 [==============================] - 0s 607us/step - loss: 0.5368 - accuracy: 0.7894\n",
      "Epoch 10/100\n",
      "24/24 [==============================] - 0s 564us/step - loss: 0.5229 - accuracy: 0.7741\n",
      "Epoch 11/100\n",
      "24/24 [==============================] - 0s 694us/step - loss: 0.5016 - accuracy: 0.8090\n",
      "Epoch 12/100\n",
      "24/24 [==============================] - 0s 621us/step - loss: 0.4536 - accuracy: 0.8437\n",
      "Epoch 13/100\n",
      "24/24 [==============================] - 0s 608us/step - loss: 0.4280 - accuracy: 0.8591\n",
      "Epoch 14/100\n",
      "24/24 [==============================] - 0s 583us/step - loss: 0.4086 - accuracy: 0.8498\n",
      "Epoch 15/100\n",
      "24/24 [==============================] - 0s 607us/step - loss: 0.4035 - accuracy: 0.8550\n",
      "Epoch 16/100\n",
      "24/24 [==============================] - 0s 607us/step - loss: 0.3706 - accuracy: 0.8662\n",
      "Epoch 17/100\n",
      "24/24 [==============================] - 0s 522us/step - loss: 0.3541 - accuracy: 0.8985\n",
      "Epoch 18/100\n",
      "24/24 [==============================] - 0s 668us/step - loss: 0.3496 - accuracy: 0.8898\n",
      "Epoch 19/100\n",
      "24/24 [==============================] - 0s 600us/step - loss: 0.3409 - accuracy: 0.8772\n",
      "Epoch 20/100\n",
      "24/24 [==============================] - 0s 650us/step - loss: 0.3336 - accuracy: 0.8808\n",
      "Epoch 21/100\n",
      "24/24 [==============================] - 0s 694us/step - loss: 0.3294 - accuracy: 0.8657\n",
      "Epoch 22/100\n",
      "24/24 [==============================] - 0s 781us/step - loss: 0.3183 - accuracy: 0.8775\n",
      "Epoch 23/100\n",
      "24/24 [==============================] - 0s 608us/step - loss: 0.3095 - accuracy: 0.8797\n",
      "Epoch 24/100\n",
      "24/24 [==============================] - 0s 650us/step - loss: 0.3022 - accuracy: 0.8847\n",
      "Epoch 25/100\n",
      "24/24 [==============================] - 0s 694us/step - loss: 0.3151 - accuracy: 0.8766\n",
      "Epoch 26/100\n",
      "24/24 [==============================] - 0s 694us/step - loss: 0.2915 - accuracy: 0.8777\n",
      "Epoch 27/100\n",
      "24/24 [==============================] - 0s 650us/step - loss: 0.3017 - accuracy: 0.8811\n",
      "Epoch 28/100\n",
      "24/24 [==============================] - 0s 694us/step - loss: 0.2847 - accuracy: 0.8874\n",
      "Epoch 29/100\n",
      "24/24 [==============================] - 0s 613us/step - loss: 0.2881 - accuracy: 0.8824\n",
      "Epoch 30/100\n",
      "24/24 [==============================] - 0s 588us/step - loss: 0.2707 - accuracy: 0.8918\n",
      "Epoch 31/100\n",
      "24/24 [==============================] - 0s 638us/step - loss: 0.2644 - accuracy: 0.8883\n",
      "Epoch 32/100\n",
      "24/24 [==============================] - 0s 559us/step - loss: 0.2741 - accuracy: 0.8860\n",
      "Epoch 33/100\n",
      "24/24 [==============================] - 0s 608us/step - loss: 0.2684 - accuracy: 0.8918\n",
      "Epoch 34/100\n",
      "24/24 [==============================] - 0s 564us/step - loss: 0.2961 - accuracy: 0.8642\n",
      "Epoch 35/100\n",
      "24/24 [==============================] - 0s 650us/step - loss: 0.2647 - accuracy: 0.8857\n",
      "Epoch 36/100\n",
      "24/24 [==============================] - 0s 562us/step - loss: 0.2653 - accuracy: 0.8817\n",
      "Epoch 37/100\n",
      "24/24 [==============================] - 0s 607us/step - loss: 0.2465 - accuracy: 0.8932\n",
      "Epoch 38/100\n",
      "24/24 [==============================] - 0s 552us/step - loss: 0.2443 - accuracy: 0.9055\n",
      "Epoch 39/100\n",
      "24/24 [==============================] - 0s 596us/step - loss: 0.2629 - accuracy: 0.8923\n",
      "Epoch 40/100\n",
      "24/24 [==============================] - 0s 544us/step - loss: 0.2538 - accuracy: 0.8880\n",
      "Epoch 41/100\n",
      "24/24 [==============================] - 0s 737us/step - loss: 0.2883 - accuracy: 0.8693\n",
      "Epoch 42/100\n",
      "24/24 [==============================] - 0s 564us/step - loss: 0.2678 - accuracy: 0.8911\n",
      "Epoch 43/100\n",
      "24/24 [==============================] - 0s 564us/step - loss: 0.2374 - accuracy: 0.9064\n",
      "Epoch 44/100\n",
      "24/24 [==============================] - 0s 607us/step - loss: 0.2684 - accuracy: 0.8821\n",
      "Epoch 45/100\n",
      "24/24 [==============================] - 0s 650us/step - loss: 0.2609 - accuracy: 0.8825\n",
      "Epoch 46/100\n",
      "24/24 [==============================] - 0s 564us/step - loss: 0.2620 - accuracy: 0.8935\n",
      "Epoch 47/100\n",
      "24/24 [==============================] - 0s 652us/step - loss: 0.2636 - accuracy: 0.8920\n",
      "Epoch 48/100\n",
      "24/24 [==============================] - 0s 824us/step - loss: 0.2728 - accuracy: 0.8694\n",
      "Epoch 49/100\n",
      "24/24 [==============================] - 0s 954us/step - loss: 0.2356 - accuracy: 0.9061\n",
      "Epoch 50/100\n",
      "24/24 [==============================] - 0s 954us/step - loss: 0.2564 - accuracy: 0.8897\n",
      "Epoch 51/100\n",
      "24/24 [==============================] - 0s 911us/step - loss: 0.2630 - accuracy: 0.8876\n",
      "Epoch 52/100\n",
      "24/24 [==============================] - 0s 911us/step - loss: 0.2330 - accuracy: 0.9087\n",
      "Epoch 53/100\n",
      "24/24 [==============================] - 0s 911us/step - loss: 0.2763 - accuracy: 0.8787\n",
      "Epoch 54/100\n",
      "24/24 [==============================] - 0s 781us/step - loss: 0.2387 - accuracy: 0.9033\n",
      "Epoch 55/100\n",
      "24/24 [==============================] - 0s 824us/step - loss: 0.2964 - accuracy: 0.8657\n",
      "Epoch 56/100\n",
      "24/24 [==============================] - 0s 911us/step - loss: 0.2150 - accuracy: 0.9110\n",
      "Epoch 57/100\n",
      "24/24 [==============================] - 0s 824us/step - loss: 0.2669 - accuracy: 0.8882\n",
      "Epoch 58/100\n",
      "24/24 [==============================] - 0s 780us/step - loss: 0.2731 - accuracy: 0.8859\n",
      "Epoch 59/100\n",
      "24/24 [==============================] - 0s 737us/step - loss: 0.2354 - accuracy: 0.9053\n",
      "Epoch 60/100\n",
      "24/24 [==============================] - 0s 607us/step - loss: 0.2859 - accuracy: 0.8729\n",
      "Epoch 61/100\n",
      "24/24 [==============================] - 0s 520us/step - loss: 0.2402 - accuracy: 0.9063\n",
      "Epoch 62/100\n",
      "24/24 [==============================] - 0s 520us/step - loss: 0.2487 - accuracy: 0.8918\n",
      "Epoch 63/100\n",
      "24/24 [==============================] - 0s 523us/step - loss: 0.2383 - accuracy: 0.8975\n",
      "Epoch 64/100\n",
      "24/24 [==============================] - 0s 564us/step - loss: 0.2685 - accuracy: 0.8733\n",
      "Epoch 65/100\n",
      "24/24 [==============================] - 0s 566us/step - loss: 0.2451 - accuracy: 0.8889\n",
      "Epoch 66/100\n",
      "24/24 [==============================] - 0s 779us/step - loss: 0.2528 - accuracy: 0.8957\n",
      "Epoch 67/100\n",
      "24/24 [==============================] - 0s 742us/step - loss: 0.2376 - accuracy: 0.9032\n",
      "Epoch 68/100\n",
      "24/24 [==============================] - 0s 695us/step - loss: 0.2429 - accuracy: 0.8888\n",
      "Epoch 69/100\n",
      "24/24 [==============================] - 0s 607us/step - loss: 0.2242 - accuracy: 0.9053\n",
      "Epoch 70/100\n",
      "24/24 [==============================] - 0s 562us/step - loss: 0.2432 - accuracy: 0.8991\n",
      "Epoch 71/100\n",
      "24/24 [==============================] - 0s 538us/step - loss: 0.2575 - accuracy: 0.8828\n",
      "Epoch 72/100\n",
      "24/24 [==============================] - 0s 595us/step - loss: 0.2584 - accuracy: 0.8859\n",
      "Epoch 73/100\n",
      "24/24 [==============================] - 0s 564us/step - loss: 0.2662 - accuracy: 0.8803\n",
      "Epoch 74/100\n",
      "24/24 [==============================] - 0s 564us/step - loss: 0.2211 - accuracy: 0.9088\n",
      "Epoch 75/100\n",
      "24/24 [==============================] - 0s 536us/step - loss: 0.2428 - accuracy: 0.8983\n",
      "Epoch 76/100\n",
      "24/24 [==============================] - 0s 623us/step - loss: 0.2055 - accuracy: 0.9155\n",
      "Epoch 77/100\n",
      "24/24 [==============================] - 0s 606us/step - loss: 0.2324 - accuracy: 0.8984\n",
      "Epoch 78/100\n",
      "24/24 [==============================] - 0s 648us/step - loss: 0.2233 - accuracy: 0.9039\n",
      "Epoch 79/100\n",
      "24/24 [==============================] - 0s 602us/step - loss: 0.2512 - accuracy: 0.8906\n",
      "Epoch 80/100\n",
      "24/24 [==============================] - 0s 564us/step - loss: 0.2257 - accuracy: 0.9044\n",
      "Epoch 81/100\n"
     ]
    },
    {
     "name": "stdout",
     "output_type": "stream",
     "text": [
      "24/24 [==============================] - 0s 564us/step - loss: 0.2334 - accuracy: 0.8957\n",
      "Epoch 82/100\n",
      "24/24 [==============================] - 0s 564us/step - loss: 0.2257 - accuracy: 0.9039\n",
      "Epoch 83/100\n",
      "24/24 [==============================] - 0s 564us/step - loss: 0.2328 - accuracy: 0.8923\n",
      "Epoch 84/100\n",
      "24/24 [==============================] - 0s 580us/step - loss: 0.2702 - accuracy: 0.8816\n",
      "Epoch 85/100\n",
      "24/24 [==============================] - 0s 520us/step - loss: 0.2488 - accuracy: 0.8902\n",
      "Epoch 86/100\n",
      "24/24 [==============================] - 0s 536us/step - loss: 0.2285 - accuracy: 0.9011\n",
      "Epoch 87/100\n",
      "24/24 [==============================] - 0s 651us/step - loss: 0.2435 - accuracy: 0.8871\n",
      "Epoch 88/100\n",
      "24/24 [==============================] - 0s 694us/step - loss: 0.2659 - accuracy: 0.8775\n",
      "Epoch 89/100\n",
      "24/24 [==============================] - 0s 650us/step - loss: 0.2526 - accuracy: 0.8959\n",
      "Epoch 90/100\n",
      "24/24 [==============================] - 0s 564us/step - loss: 0.2495 - accuracy: 0.8905\n",
      "Epoch 91/100\n",
      "24/24 [==============================] - 0s 576us/step - loss: 0.2492 - accuracy: 0.8910\n",
      "Epoch 92/100\n",
      "24/24 [==============================] - 0s 520us/step - loss: 0.2722 - accuracy: 0.8814\n",
      "Epoch 93/100\n",
      "24/24 [==============================] - 0s 563us/step - loss: 0.2494 - accuracy: 0.8998\n",
      "Epoch 94/100\n",
      "24/24 [==============================] - 0s 531us/step - loss: 0.2421 - accuracy: 0.8933\n",
      "Epoch 95/100\n",
      "24/24 [==============================] - 0s 552us/step - loss: 0.2363 - accuracy: 0.8987\n",
      "Epoch 96/100\n",
      "24/24 [==============================] - 0s 519us/step - loss: 0.2445 - accuracy: 0.8920\n",
      "Epoch 97/100\n",
      "24/24 [==============================] - 0s 598us/step - loss: 0.2710 - accuracy: 0.8730\n",
      "Epoch 98/100\n",
      "24/24 [==============================] - 0s 520us/step - loss: 0.2648 - accuracy: 0.8835\n",
      "Epoch 99/100\n",
      "24/24 [==============================] - 0s 598us/step - loss: 0.2779 - accuracy: 0.8700\n",
      "Epoch 100/100\n",
      "24/24 [==============================] - 0s 520us/step - loss: 0.2185 - accuracy: 0.9069\n"
     ]
    }
   ],
   "source": [
    "# Compile the Sequential model together and customize metrics\n",
    "new_model.compile(loss=\"binary_crossentropy\", optimizer=\"adam\", metrics=[\"accuracy\"])\n",
    "\n",
    "# Fit the model to the training data\n",
    "new_fit_model = new_model.fit(X_moon_train_scaled, y_moon_train, epochs=100, shuffle=True)\n"
   ]
  },
  {
   "cell_type": "code",
   "execution_count": null,
   "metadata": {},
   "outputs": [],
   "source": []
  }
 ],
 "metadata": {
  "kernelspec": {
   "display_name": "Python 3",
   "language": "python",
   "name": "python3"
  },
  "language_info": {
   "codemirror_mode": {
    "name": "ipython",
    "version": 3
   },
   "file_extension": ".py",
   "mimetype": "text/x-python",
   "name": "python",
   "nbconvert_exporter": "python",
   "pygments_lexer": "ipython3",
   "version": "3.8.5"
  }
 },
 "nbformat": 4,
 "nbformat_minor": 4
}
